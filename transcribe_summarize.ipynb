{
 "cells": [
  {
   "cell_type": "markdown",
   "id": "3c459776",
   "metadata": {},
   "source": [
    "# Transcribe and summarize\n",
    "\n",
    "Use openAI to transcribe and summarize audio files."
   ]
  },
  {
   "cell_type": "code",
   "execution_count": 1,
   "id": "d815f191",
   "metadata": {},
   "outputs": [],
   "source": [
    "import os\n",
    "from openai import OpenAI\n",
    "client = OpenAI(api_key=os.environ.get(\"OPENAI_API_KEY\"),)"
   ]
  },
  {
   "cell_type": "markdown",
   "id": "7614254d",
   "metadata": {},
   "source": [
    "## Input audio files"
   ]
  },
  {
   "cell_type": "code",
   "execution_count": 2,
   "id": "a4874d17",
   "metadata": {},
   "outputs": [],
   "source": [
    "# Set the directory path you want to search in\n",
    "directory_path = '/Users/arno.klein/Documents/steinberg-videos/audio'\n",
    "\n",
    "# List all file paths to files ending with '.m4a'\n",
    "audio_append = '.m4a'\n",
    "audio_files = [os.path.join(directory_path, file) for file in os.listdir(directory_path) if file.endswith(audio_append)]"
   ]
  },
  {
   "cell_type": "markdown",
   "id": "4305c316",
   "metadata": {},
   "source": [
    "## Output transcript and summary files"
   ]
  },
  {
   "cell_type": "code",
   "execution_count": 3,
   "id": "c9164a29",
   "metadata": {},
   "outputs": [],
   "source": [
    "# Output transcript and summary file paths\n",
    "transcript_files = [os.path.join(directory_path, file + '_transcript.txt') for file in os.listdir(directory_path) if file.endswith(audio_append)]\n",
    "summary_files = [os.path.join(directory_path, file + '_summary.txt') for file in os.listdir(directory_path) if file.endswith(audio_append)]"
   ]
  },
  {
   "cell_type": "markdown",
   "id": "3f8dd6d3",
   "metadata": {},
   "source": [
    "## Transcribe and summarize functions"
   ]
  },
  {
   "cell_type": "code",
   "execution_count": 4,
   "id": "4f2a1526",
   "metadata": {},
   "outputs": [],
   "source": [
    "def transcribe(audio_file):\n",
    "    file_handle = open(audio_file, 'rb')\n",
    "    transcript = client.audio.transcriptions.create(\n",
    "    model=\"whisper-1\", file=file_handle)\n",
    "    return transcript"
   ]
  },
  {
   "cell_type": "code",
   "execution_count": 5,
   "id": "bdd27a29",
   "metadata": {},
   "outputs": [],
   "source": [
    "def summarize(transcript):\n",
    "    system_prompt = \"\"\"Please provide a clear summary of the provided transcript, understandable for someone with a high-school education. \\n\\nTranscript:\"\"\"\n",
    "    summary = client.chat.completions.create(\n",
    "        model=\"gpt-4-1106-preview\",\n",
    "        messages=[\n",
    "            {\"role\":\"system\",\"content\": system_prompt},\n",
    "            {\"role\":\"user\",\"content\": transcript.text}]\n",
    "    )\n",
    "    return summary"
   ]
  },
  {
   "cell_type": "markdown",
   "id": "b95ce970",
   "metadata": {},
   "source": [
    "## Loop through, transcribe, and summarize audio files"
   ]
  },
  {
   "cell_type": "code",
   "execution_count": null,
   "id": "c643b9a0",
   "metadata": {},
   "outputs": [],
   "source": [
    "for ifile, audio_file in enumerate(audio_files):\n",
    "    transcript = transcribe(audio_file)\n",
    "    with open(transcript_files[ifile], \"w\") as file_buffer:\n",
    "        file_buffer.write(transcript.choices[0].message.content)\n",
    "    summary = summarize(transcript)\n",
    "    with open(summary_files[ifile], \"w\") as file_buffer:\n",
    "        file_buffer.write(summary.choices[0].message.content)\n",
    "    print('Summary written to {0}'.format(summary_files[ifile]))"
   ]
  },
  {
   "cell_type": "code",
   "execution_count": null,
   "id": "1b3c84a5",
   "metadata": {},
   "outputs": [],
   "source": []
  }
 ],
 "metadata": {
  "kernelspec": {
   "display_name": "Python 3 (ipykernel)",
   "language": "python",
   "name": "python3"
  },
  "language_info": {
   "codemirror_mode": {
    "name": "ipython",
    "version": 3
   },
   "file_extension": ".py",
   "mimetype": "text/x-python",
   "name": "python",
   "nbconvert_exporter": "python",
   "pygments_lexer": "ipython3",
   "version": "3.11.4"
  }
 },
 "nbformat": 4,
 "nbformat_minor": 5
}
