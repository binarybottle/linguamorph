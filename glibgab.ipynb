{
 "cells": [
  {
   "cell_type": "markdown",
   "id": "4e95e13c",
   "metadata": {},
   "source": [
    "Spoken and visual twist on the original Mad Lib game.\n",
    "\n",
    "Use Google text-to-speech and speech-to-text, GPT-4, and Dall-E.\n",
    "\n",
    "Ex: python glibgab.py -l 1 -w 5 -i \"da Vinci's painting of the Mona Lisa\"\n",
    "\n",
    "Copyright 2023, Arno Klein, MIT License"
   ]
  },
  {
   "cell_type": "code",
   "execution_count": 1,
   "id": "be86a146",
   "metadata": {},
   "outputs": [],
   "source": [
    "from generate_text_images import generate_description, generate_madlib\n",
    "from generate_text_images import fill_madlib, fix_grammar\n",
    "from generate_text_images import generate_image\n",
    "from io_files import display_image"
   ]
  },
  {
   "cell_type": "code",
   "execution_count": null,
   "id": "86c4d6cb",
   "metadata": {},
   "outputs": [],
   "source": [
    "    >>> specific_instance = \"Leonardo Da Vinci's painting The Last Supper\"\n",
    "    >>> max_reading_level = 9\n",
    "    >>> topic = \"famous artwork\"\n",
    "    >>> verbose = True\n",
    "    >>> generate_description(topic, specific_instance, max_reading_level, verbose)"
   ]
  },
  {
   "cell_type": "code",
   "execution_count": null,
   "id": "7568f4ef",
   "metadata": {},
   "outputs": [],
   "source": [
    "    >>> description = \"Sam's friends are playing.\"\n",
    "    >>> select_max_words = 5\n",
    "    >>> verbose = True\n",
    "    >>> madlib, unique_words = generate_madlib(description, select_max_words, verbose)"
   ]
  },
  {
   "cell_type": "code",
   "execution_count": null,
   "id": "63943d4c",
   "metadata": {},
   "outputs": [],
   "source": [
    "    >>> madlib = \"I ate one gala {0}, three fuji {0}s, and one {1}'s flesh.\"\n",
    "    >>> words = ['apple', 'cantaloupe']\n",
    "    >>> response_duration = 2\n",
    "    >>> verbose = True\n",
    "    >>> filled_madlib, new_words = fill_madlib(madlib, words, response_duration, verbose)"
   ]
  },
  {
   "cell_type": "code",
   "execution_count": null,
   "id": "3e1ebacc",
   "metadata": {},
   "outputs": [],
   "source": [
    "    >>> input_text = \"I ate one gala strawberry, three fuji strawberrys, and one honeydew's flesh.\"\n",
    "    >>> verbose = True\n",
    "    >>> fix_grammar(input_text, verbose)"
   ]
  },
  {
   "cell_type": "code",
   "execution_count": 2,
   "id": "3b79384e",
   "metadata": {},
   "outputs": [
    {
     "name": "stdout",
     "output_type": "stream",
     "text": [
      "tmp/da Vi-1693369541-0.png\n"
     ]
    }
   ],
   "source": [
    "    >>> prompt = \"da Vinci's painting of the Mona Lisa\"\n",
    "    >>> size = \"256x256\"\n",
    "    >>> output_format = \"png\"\n",
    "    >>> output_dir = 'tmp'\n",
    "    >>> verbose = True\n",
    "    >>> png_file = generate_image(prompt, size, output_format, output_dir, verbose)"
   ]
  },
  {
   "cell_type": "code",
   "execution_count": 3,
   "id": "d46b4890",
   "metadata": {},
   "outputs": [],
   "source": [
    "display_image(png_file)"
   ]
  },
  {
   "cell_type": "code",
   "execution_count": null,
   "id": "23cc2914",
   "metadata": {},
   "outputs": [],
   "source": []
  }
 ],
 "metadata": {
  "kernelspec": {
   "display_name": "Python 3 (ipykernel)",
   "language": "python",
   "name": "python3"
  },
  "language_info": {
   "codemirror_mode": {
    "name": "ipython",
    "version": 3
   },
   "file_extension": ".py",
   "mimetype": "text/x-python",
   "name": "python",
   "nbconvert_exporter": "python",
   "pygments_lexer": "ipython3",
   "version": "3.8.16"
  }
 },
 "nbformat": 4,
 "nbformat_minor": 5
}
